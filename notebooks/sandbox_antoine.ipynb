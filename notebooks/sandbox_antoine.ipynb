{
 "cells": [
  {
   "attachments": {},
   "cell_type": "markdown",
   "metadata": {},
   "source": [
    "### Set up"
   ]
  },
  {
   "attachments": {},
   "cell_type": "markdown",
   "metadata": {},
   "source": [
    "`conda install -n bcg-env ipykernel --update-deps --force-reinstall`"
   ]
  },
  {
   "attachments": {},
   "cell_type": "markdown",
   "metadata": {},
   "source": [
    "### Data importation"
   ]
  },
  {
   "cell_type": "code",
   "execution_count": 26,
   "metadata": {},
   "outputs": [],
   "source": [
    "import pandas as pd\n",
    "from random import sample\n",
    "import matplotlib.pyplot as plt\n",
    "import plotly.graph_objects as go\n",
    "from math import ceil\n",
    "import datetime\n",
    "import os"
   ]
  },
  {
   "cell_type": "code",
   "execution_count": 2,
   "metadata": {},
   "outputs": [],
   "source": [
    "root_path = os.path.dirname(os.getcwd())\n",
    "os.chdir(root_path)"
   ]
  },
  {
   "cell_type": "code",
   "execution_count": 3,
   "metadata": {},
   "outputs": [
    {
     "name": "stdout",
     "output_type": "stream",
     "text": [
      "(63319315, 8)\n"
     ]
    },
    {
     "data": {
      "text/html": [
       "<div>\n",
       "<style scoped>\n",
       "    .dataframe tbody tr th:only-of-type {\n",
       "        vertical-align: middle;\n",
       "    }\n",
       "\n",
       "    .dataframe tbody tr th {\n",
       "        vertical-align: top;\n",
       "    }\n",
       "\n",
       "    .dataframe thead th {\n",
       "        text-align: right;\n",
       "    }\n",
       "</style>\n",
       "<table border=\"1\" class=\"dataframe\">\n",
       "  <thead>\n",
       "    <tr style=\"text-align: right;\">\n",
       "      <th></th>\n",
       "      <th>date_order</th>\n",
       "      <th>date_invoice</th>\n",
       "      <th>product_id</th>\n",
       "      <th>client_id</th>\n",
       "      <th>sales_net</th>\n",
       "      <th>quantity</th>\n",
       "      <th>order_channel</th>\n",
       "      <th>branch_id</th>\n",
       "    </tr>\n",
       "  </thead>\n",
       "  <tbody>\n",
       "    <tr>\n",
       "      <th>0</th>\n",
       "      <td>2017-09-25</td>\n",
       "      <td>2017-09-25</td>\n",
       "      <td>2376333</td>\n",
       "      <td>188502</td>\n",
       "      <td>155.44320</td>\n",
       "      <td>3</td>\n",
       "      <td>online</td>\n",
       "      <td>2732</td>\n",
       "    </tr>\n",
       "    <tr>\n",
       "      <th>1</th>\n",
       "      <td>2017-09-25</td>\n",
       "      <td>2017-09-25</td>\n",
       "      <td>2520527</td>\n",
       "      <td>835089</td>\n",
       "      <td>16.39440</td>\n",
       "      <td>3</td>\n",
       "      <td>at the store</td>\n",
       "      <td>10279</td>\n",
       "    </tr>\n",
       "    <tr>\n",
       "      <th>2</th>\n",
       "      <td>2017-09-25</td>\n",
       "      <td>2017-09-25</td>\n",
       "      <td>2536756</td>\n",
       "      <td>1977896</td>\n",
       "      <td>365.76624</td>\n",
       "      <td>21</td>\n",
       "      <td>online</td>\n",
       "      <td>6184</td>\n",
       "    </tr>\n",
       "    <tr>\n",
       "      <th>3</th>\n",
       "      <td>2017-09-25</td>\n",
       "      <td>2017-09-25</td>\n",
       "      <td>3028673</td>\n",
       "      <td>598816</td>\n",
       "      <td>8.59878</td>\n",
       "      <td>201</td>\n",
       "      <td>at the store</td>\n",
       "      <td>4200</td>\n",
       "    </tr>\n",
       "    <tr>\n",
       "      <th>4</th>\n",
       "      <td>2017-09-25</td>\n",
       "      <td>2017-09-25</td>\n",
       "      <td>203377</td>\n",
       "      <td>2086861</td>\n",
       "      <td>1093.37400</td>\n",
       "      <td>3</td>\n",
       "      <td>by phone</td>\n",
       "      <td>7051</td>\n",
       "    </tr>\n",
       "  </tbody>\n",
       "</table>\n",
       "</div>"
      ],
      "text/plain": [
       "   date_order date_invoice  product_id  client_id   sales_net  quantity  \\\n",
       "0  2017-09-25   2017-09-25     2376333     188502   155.44320         3   \n",
       "1  2017-09-25   2017-09-25     2520527     835089    16.39440         3   \n",
       "2  2017-09-25   2017-09-25     2536756    1977896   365.76624        21   \n",
       "3  2017-09-25   2017-09-25     3028673     598816     8.59878       201   \n",
       "4  2017-09-25   2017-09-25      203377    2086861  1093.37400         3   \n",
       "\n",
       "  order_channel  branch_id  \n",
       "0        online       2732  \n",
       "1  at the store      10279  \n",
       "2        online       6184  \n",
       "3  at the store       4200  \n",
       "4      by phone       7051  "
      ]
     },
     "execution_count": 3,
     "metadata": {},
     "output_type": "execute_result"
    }
   ],
   "source": [
    "df = pd.read_parquet(os.path.join(root_path, 'data/transaction_data.parquet'),\\\n",
    "    engine='pyarrow')\n",
    "print(df.shape)\n",
    "df.head()"
   ]
  },
  {
   "cell_type": "code",
   "execution_count": 13,
   "metadata": {},
   "outputs": [
    {
     "data": {
      "text/html": [
       "<div>\n",
       "<style scoped>\n",
       "    .dataframe tbody tr th:only-of-type {\n",
       "        vertical-align: middle;\n",
       "    }\n",
       "\n",
       "    .dataframe tbody tr th {\n",
       "        vertical-align: top;\n",
       "    }\n",
       "\n",
       "    .dataframe thead th {\n",
       "        text-align: right;\n",
       "    }\n",
       "</style>\n",
       "<table border=\"1\" class=\"dataframe\">\n",
       "  <thead>\n",
       "    <tr style=\"text-align: right;\">\n",
       "      <th></th>\n",
       "      <th>quantity</th>\n",
       "    </tr>\n",
       "    <tr>\n",
       "      <th>order_channel</th>\n",
       "      <th></th>\n",
       "    </tr>\n",
       "  </thead>\n",
       "  <tbody>\n",
       "    <tr>\n",
       "      <th>at the store</th>\n",
       "      <td>1583990440</td>\n",
       "    </tr>\n",
       "    <tr>\n",
       "      <th>by phone</th>\n",
       "      <td>3587646875</td>\n",
       "    </tr>\n",
       "    <tr>\n",
       "      <th>during the visit of a sales rep</th>\n",
       "      <td>3164479</td>\n",
       "    </tr>\n",
       "    <tr>\n",
       "      <th>online</th>\n",
       "      <td>660310222</td>\n",
       "    </tr>\n",
       "    <tr>\n",
       "      <th>other</th>\n",
       "      <td>179661</td>\n",
       "    </tr>\n",
       "  </tbody>\n",
       "</table>\n",
       "</div>"
      ],
      "text/plain": [
       "                                   quantity\n",
       "order_channel                              \n",
       "at the store                     1583990440\n",
       "by phone                         3587646875\n",
       "during the visit of a sales rep     3164479\n",
       "online                            660310222\n",
       "other                                179661"
      ]
     },
     "execution_count": 13,
     "metadata": {},
     "output_type": "execute_result"
    }
   ],
   "source": [
    "df[[\"quantity\", \"order_channel\"]].groupby('order_channel').sum()"
   ]
  },
  {
   "attachments": {},
   "cell_type": "markdown",
   "metadata": {},
   "source": [
    "### Shorten dataset \n",
    "We randomnly sample 1000 clients for the dev part."
   ]
  },
  {
   "cell_type": "code",
   "execution_count": 9,
   "metadata": {},
   "outputs": [
    {
     "name": "stdout",
     "output_type": "stream",
     "text": [
      "(424254, 8)\n"
     ]
    },
    {
     "data": {
      "text/html": [
       "<div>\n",
       "<style scoped>\n",
       "    .dataframe tbody tr th:only-of-type {\n",
       "        vertical-align: middle;\n",
       "    }\n",
       "\n",
       "    .dataframe tbody tr th {\n",
       "        vertical-align: top;\n",
       "    }\n",
       "\n",
       "    .dataframe thead th {\n",
       "        text-align: right;\n",
       "    }\n",
       "</style>\n",
       "<table border=\"1\" class=\"dataframe\">\n",
       "  <thead>\n",
       "    <tr style=\"text-align: right;\">\n",
       "      <th></th>\n",
       "      <th>date_order</th>\n",
       "      <th>date_invoice</th>\n",
       "      <th>product_id</th>\n",
       "      <th>client_id</th>\n",
       "      <th>sales_net</th>\n",
       "      <th>quantity</th>\n",
       "      <th>order_channel</th>\n",
       "      <th>branch_id</th>\n",
       "    </tr>\n",
       "  </thead>\n",
       "  <tbody>\n",
       "    <tr>\n",
       "      <th>364</th>\n",
       "      <td>2017-09-25</td>\n",
       "      <td>2017-09-25</td>\n",
       "      <td>1449738</td>\n",
       "      <td>1272143</td>\n",
       "      <td>9.3288</td>\n",
       "      <td>3</td>\n",
       "      <td>at the store</td>\n",
       "      <td>5297</td>\n",
       "    </tr>\n",
       "    <tr>\n",
       "      <th>883</th>\n",
       "      <td>2017-09-26</td>\n",
       "      <td>2017-09-26</td>\n",
       "      <td>653092</td>\n",
       "      <td>1700424</td>\n",
       "      <td>25.8888</td>\n",
       "      <td>3</td>\n",
       "      <td>by phone</td>\n",
       "      <td>1877</td>\n",
       "    </tr>\n",
       "    <tr>\n",
       "      <th>991</th>\n",
       "      <td>2017-09-27</td>\n",
       "      <td>2017-09-27</td>\n",
       "      <td>3115653</td>\n",
       "      <td>1238765</td>\n",
       "      <td>33.1200</td>\n",
       "      <td>9</td>\n",
       "      <td>online</td>\n",
       "      <td>10964</td>\n",
       "    </tr>\n",
       "    <tr>\n",
       "      <th>1066</th>\n",
       "      <td>2017-09-29</td>\n",
       "      <td>2017-09-29</td>\n",
       "      <td>770261</td>\n",
       "      <td>1695561</td>\n",
       "      <td>57.9600</td>\n",
       "      <td>3</td>\n",
       "      <td>at the store</td>\n",
       "      <td>5274</td>\n",
       "    </tr>\n",
       "    <tr>\n",
       "      <th>1094</th>\n",
       "      <td>2017-09-26</td>\n",
       "      <td>2017-09-26</td>\n",
       "      <td>926970</td>\n",
       "      <td>1798523</td>\n",
       "      <td>868.8480</td>\n",
       "      <td>3</td>\n",
       "      <td>by phone</td>\n",
       "      <td>9700</td>\n",
       "    </tr>\n",
       "  </tbody>\n",
       "</table>\n",
       "</div>"
      ],
      "text/plain": [
       "      date_order date_invoice  product_id  client_id  sales_net  quantity  \\\n",
       "364   2017-09-25   2017-09-25     1449738    1272143     9.3288         3   \n",
       "883   2017-09-26   2017-09-26      653092    1700424    25.8888         3   \n",
       "991   2017-09-27   2017-09-27     3115653    1238765    33.1200         9   \n",
       "1066  2017-09-29   2017-09-29      770261    1695561    57.9600         3   \n",
       "1094  2017-09-26   2017-09-26      926970    1798523   868.8480         3   \n",
       "\n",
       "     order_channel  branch_id  \n",
       "364   at the store       5297  \n",
       "883       by phone       1877  \n",
       "991         online      10964  \n",
       "1066  at the store       5274  \n",
       "1094      by phone       9700  "
      ]
     },
     "execution_count": 9,
     "metadata": {},
     "output_type": "execute_result"
    }
   ],
   "source": [
    "n_client = 1000\n",
    "\n",
    "id_list_short = sample(list(df.client_id.unique()), n_client)\n",
    "df_short = df[df.client_id.isin(id_list_short)]\n",
    "\n",
    "print(df_short.shape)\n",
    "df_short.head()"
   ]
  },
  {
   "cell_type": "code",
   "execution_count": 10,
   "metadata": {},
   "outputs": [],
   "source": [
    "# Save\n",
    "df_short.to_csv('data/transaction_data_short.csv', index=False)"
   ]
  },
  {
   "cell_type": "code",
   "execution_count": 35,
   "metadata": {},
   "outputs": [
    {
     "data": {
      "text/html": [
       "<div>\n",
       "<style scoped>\n",
       "    .dataframe tbody tr th:only-of-type {\n",
       "        vertical-align: middle;\n",
       "    }\n",
       "\n",
       "    .dataframe tbody tr th {\n",
       "        vertical-align: top;\n",
       "    }\n",
       "\n",
       "    .dataframe thead th {\n",
       "        text-align: right;\n",
       "    }\n",
       "</style>\n",
       "<table border=\"1\" class=\"dataframe\">\n",
       "  <thead>\n",
       "    <tr style=\"text-align: right;\">\n",
       "      <th></th>\n",
       "      <th>date_order</th>\n",
       "      <th>date_invoice</th>\n",
       "      <th>product_id</th>\n",
       "      <th>client_id</th>\n",
       "      <th>sales_net</th>\n",
       "      <th>quantity</th>\n",
       "      <th>order_channel</th>\n",
       "      <th>branch_id</th>\n",
       "    </tr>\n",
       "  </thead>\n",
       "  <tbody>\n",
       "    <tr>\n",
       "      <th>0</th>\n",
       "      <td>2017-09-25</td>\n",
       "      <td>2017-09-25</td>\n",
       "      <td>1449738</td>\n",
       "      <td>1272143</td>\n",
       "      <td>9.3288</td>\n",
       "      <td>3</td>\n",
       "      <td>at the store</td>\n",
       "      <td>5297</td>\n",
       "    </tr>\n",
       "    <tr>\n",
       "      <th>1</th>\n",
       "      <td>2017-09-26</td>\n",
       "      <td>2017-09-26</td>\n",
       "      <td>653092</td>\n",
       "      <td>1700424</td>\n",
       "      <td>25.8888</td>\n",
       "      <td>3</td>\n",
       "      <td>by phone</td>\n",
       "      <td>1877</td>\n",
       "    </tr>\n",
       "  </tbody>\n",
       "</table>\n",
       "</div>"
      ],
      "text/plain": [
       "   date_order date_invoice  product_id  client_id  sales_net  quantity  \\\n",
       "0  2017-09-25   2017-09-25     1449738    1272143     9.3288         3   \n",
       "1  2017-09-26   2017-09-26      653092    1700424    25.8888         3   \n",
       "\n",
       "  order_channel  branch_id  \n",
       "0  at the store       5297  \n",
       "1      by phone       1877  "
      ]
     },
     "execution_count": 35,
     "metadata": {},
     "output_type": "execute_result"
    }
   ],
   "source": [
    "# Load\n",
    "df_short = pd.read_csv('data/transaction_data_short.csv')\n",
    "df_short.head(2)"
   ]
  },
  {
   "cell_type": "code",
   "execution_count": 40,
   "metadata": {},
   "outputs": [],
   "source": [
    "# Sample a client\n",
    "df_client_sample = df_short[df_short.client_id==1272143]"
   ]
  },
  {
   "cell_type": "code",
   "execution_count": 48,
   "metadata": {},
   "outputs": [
    {
     "ename": "TypeError",
     "evalue": "function missing required argument 'month' (pos 2)",
     "output_type": "error",
     "traceback": [
      "\u001b[0;31m---------------------------------------------------------------------------\u001b[0m",
      "\u001b[0;31mTypeError\u001b[0m                                 Traceback (most recent call last)",
      "Cell \u001b[0;32mIn[48], line 1\u001b[0m\n\u001b[0;32m----> 1\u001b[0m datetime\u001b[39m.\u001b[39;49mdatetime(year\u001b[39m=\u001b[39;49m\u001b[39m2020\u001b[39;49m, week\u001b[39m=\u001b[39;49m\u001b[39m3\u001b[39;49m)\n",
      "\u001b[0;31mTypeError\u001b[0m: function missing required argument 'month' (pos 2)"
     ]
    }
   ],
   "source": [
    "datetime.datetime(year=2020,)"
   ]
  },
  {
   "cell_type": "code",
   "execution_count": 52,
   "metadata": {},
   "outputs": [
    {
     "data": {
      "text/html": [
       "<div>\n",
       "<style scoped>\n",
       "    .dataframe tbody tr th:only-of-type {\n",
       "        vertical-align: middle;\n",
       "    }\n",
       "\n",
       "    .dataframe tbody tr th {\n",
       "        vertical-align: top;\n",
       "    }\n",
       "\n",
       "    .dataframe thead th {\n",
       "        text-align: right;\n",
       "    }\n",
       "</style>\n",
       "<table border=\"1\" class=\"dataframe\">\n",
       "  <thead>\n",
       "    <tr style=\"text-align: right;\">\n",
       "      <th></th>\n",
       "      <th>date_order</th>\n",
       "      <th>date_invoice</th>\n",
       "      <th>product_id</th>\n",
       "      <th>client_id</th>\n",
       "      <th>sales_net</th>\n",
       "      <th>quantity</th>\n",
       "      <th>order_channel</th>\n",
       "      <th>branch_id</th>\n",
       "      <th>week</th>\n",
       "      <th>year</th>\n",
       "      <th>year/week</th>\n",
       "    </tr>\n",
       "  </thead>\n",
       "  <tbody>\n",
       "    <tr>\n",
       "      <th>0</th>\n",
       "      <td>2017-09-25</td>\n",
       "      <td>2017-09-25</td>\n",
       "      <td>1449738</td>\n",
       "      <td>1272143</td>\n",
       "      <td>9.32880</td>\n",
       "      <td>3</td>\n",
       "      <td>at the store</td>\n",
       "      <td>5297</td>\n",
       "      <td>39</td>\n",
       "      <td>2017</td>\n",
       "      <td>2017/39</td>\n",
       "    </tr>\n",
       "    <tr>\n",
       "      <th>14</th>\n",
       "      <td>2017-09-25</td>\n",
       "      <td>2017-09-25</td>\n",
       "      <td>683924</td>\n",
       "      <td>1272143</td>\n",
       "      <td>45.78288</td>\n",
       "      <td>11</td>\n",
       "      <td>at the store</td>\n",
       "      <td>5297</td>\n",
       "      <td>39</td>\n",
       "      <td>2017</td>\n",
       "      <td>2017/39</td>\n",
       "    </tr>\n",
       "    <tr>\n",
       "      <th>17</th>\n",
       "      <td>2017-09-25</td>\n",
       "      <td>2017-09-25</td>\n",
       "      <td>805106</td>\n",
       "      <td>1272143</td>\n",
       "      <td>32.40700</td>\n",
       "      <td>5</td>\n",
       "      <td>at the store</td>\n",
       "      <td>5297</td>\n",
       "      <td>39</td>\n",
       "      <td>2017</td>\n",
       "      <td>2017/39</td>\n",
       "    </tr>\n",
       "    <tr>\n",
       "      <th>38</th>\n",
       "      <td>2017-09-26</td>\n",
       "      <td>2017-09-26</td>\n",
       "      <td>2541918</td>\n",
       "      <td>1272143</td>\n",
       "      <td>13.43936</td>\n",
       "      <td>11</td>\n",
       "      <td>at the store</td>\n",
       "      <td>5297</td>\n",
       "      <td>39</td>\n",
       "      <td>2017</td>\n",
       "      <td>2017/39</td>\n",
       "    </tr>\n",
       "    <tr>\n",
       "      <th>67</th>\n",
       "      <td>2017-09-25</td>\n",
       "      <td>2017-09-25</td>\n",
       "      <td>519804</td>\n",
       "      <td>1272143</td>\n",
       "      <td>10.84680</td>\n",
       "      <td>9</td>\n",
       "      <td>at the store</td>\n",
       "      <td>5297</td>\n",
       "      <td>39</td>\n",
       "      <td>2017</td>\n",
       "      <td>2017/39</td>\n",
       "    </tr>\n",
       "  </tbody>\n",
       "</table>\n",
       "</div>"
      ],
      "text/plain": [
       "   date_order date_invoice  product_id  client_id  sales_net  quantity  \\\n",
       "0  2017-09-25   2017-09-25     1449738    1272143    9.32880         3   \n",
       "14 2017-09-25   2017-09-25      683924    1272143   45.78288        11   \n",
       "17 2017-09-25   2017-09-25      805106    1272143   32.40700         5   \n",
       "38 2017-09-26   2017-09-26     2541918    1272143   13.43936        11   \n",
       "67 2017-09-25   2017-09-25      519804    1272143   10.84680         9   \n",
       "\n",
       "   order_channel  branch_id  week  year year/week  \n",
       "0   at the store       5297    39  2017   2017/39  \n",
       "14  at the store       5297    39  2017   2017/39  \n",
       "17  at the store       5297    39  2017   2017/39  \n",
       "38  at the store       5297    39  2017   2017/39  \n",
       "67  at the store       5297    39  2017   2017/39  "
      ]
     },
     "execution_count": 52,
     "metadata": {},
     "output_type": "execute_result"
    }
   ],
   "source": [
    "# Retrieve the right time feature\n",
    "to_plot = df_client_sample.copy()\n",
    "to_plot[\"date_order\"] = pd.to_datetime(to_plot.date_order)\n",
    "to_plot[\"year/week\"] = to_plot.date_order.apply(lambda x: f'{x.year}/{x.week}')\n",
    "#to_plot[\"final_date\"] = pd.to_datetime(to_plot[\"year/week\"], \"%Y/U\")\n",
    "to_plot.head()"
   ]
  },
  {
   "cell_type": "code",
   "execution_count": 56,
   "metadata": {},
   "outputs": [
    {
     "data": {
      "text/html": [
       "<div>\n",
       "<style scoped>\n",
       "    .dataframe tbody tr th:only-of-type {\n",
       "        vertical-align: middle;\n",
       "    }\n",
       "\n",
       "    .dataframe tbody tr th {\n",
       "        vertical-align: top;\n",
       "    }\n",
       "\n",
       "    .dataframe thead th {\n",
       "        text-align: right;\n",
       "    }\n",
       "</style>\n",
       "<table border=\"1\" class=\"dataframe\">\n",
       "  <thead>\n",
       "    <tr style=\"text-align: right;\">\n",
       "      <th></th>\n",
       "      <th>order_channel</th>\n",
       "      <th>year/week</th>\n",
       "      <th>quantity</th>\n",
       "      <th>sales_net</th>\n",
       "    </tr>\n",
       "  </thead>\n",
       "  <tbody>\n",
       "    <tr>\n",
       "      <th>0</th>\n",
       "      <td>at the store</td>\n",
       "      <td>2017/39</td>\n",
       "      <td>902</td>\n",
       "      <td>1908.207591</td>\n",
       "    </tr>\n",
       "    <tr>\n",
       "      <th>1</th>\n",
       "      <td>at the store</td>\n",
       "      <td>2017/40</td>\n",
       "      <td>1773</td>\n",
       "      <td>1776.533769</td>\n",
       "    </tr>\n",
       "    <tr>\n",
       "      <th>2</th>\n",
       "      <td>at the store</td>\n",
       "      <td>2017/41</td>\n",
       "      <td>3736</td>\n",
       "      <td>4447.077473</td>\n",
       "    </tr>\n",
       "    <tr>\n",
       "      <th>3</th>\n",
       "      <td>at the store</td>\n",
       "      <td>2017/42</td>\n",
       "      <td>1074</td>\n",
       "      <td>2906.982604</td>\n",
       "    </tr>\n",
       "    <tr>\n",
       "      <th>4</th>\n",
       "      <td>at the store</td>\n",
       "      <td>2017/43</td>\n",
       "      <td>3991</td>\n",
       "      <td>2429.484813</td>\n",
       "    </tr>\n",
       "  </tbody>\n",
       "</table>\n",
       "</div>"
      ],
      "text/plain": [
       "  order_channel year/week  quantity    sales_net\n",
       "0  at the store   2017/39       902  1908.207591\n",
       "1  at the store   2017/40      1773  1776.533769\n",
       "2  at the store   2017/41      3736  4447.077473\n",
       "3  at the store   2017/42      1074  2906.982604\n",
       "4  at the store   2017/43      3991  2429.484813"
      ]
     },
     "execution_count": 56,
     "metadata": {},
     "output_type": "execute_result"
    }
   ],
   "source": [
    "to_plot2 = to_plot.copy()\n",
    "to_plot2 = to_plot2[[\"year/week\", \"quantity\", \"order_channel\", \"sales_net\"]]\\\n",
    "    .groupby([\"order_channel\", \"year/week\"])\\\n",
    "    .sum()\n",
    "to_plot2 = to_plot2.reset_index()\n",
    "to_plot2.head()"
   ]
  },
  {
   "cell_type": "code",
   "execution_count": 62,
   "metadata": {},
   "outputs": [
    {
     "data": {
      "application/vnd.plotly.v1+json": {
       "config": {
        "plotlyServerURL": "https://plot.ly"
       },
       "data": [
        {
         "mode": "markers",
         "name": "at the store",
         "type": "scatter",
         "x": [
          "2017/39",
          "2017/40",
          "2017/41",
          "2017/42",
          "2017/43",
          "2017/44",
          "2017/45",
          "2017/46",
          "2017/47",
          "2017/48",
          "2017/49",
          "2017/50",
          "2017/51",
          "2017/52",
          "2018/1",
          "2018/10",
          "2018/11",
          "2018/12",
          "2018/13",
          "2018/14",
          "2018/15",
          "2018/16",
          "2018/17",
          "2018/18",
          "2018/19",
          "2018/2",
          "2018/20",
          "2018/21",
          "2018/22",
          "2018/23",
          "2018/24",
          "2018/25",
          "2018/26",
          "2018/27",
          "2018/28",
          "2018/29",
          "2018/3",
          "2018/30",
          "2018/31",
          "2018/32",
          "2018/33",
          "2018/34",
          "2018/35",
          "2018/36",
          "2018/37",
          "2018/38",
          "2018/39",
          "2018/4",
          "2018/40",
          "2018/41",
          "2018/42",
          "2018/43",
          "2018/44",
          "2018/45",
          "2018/46",
          "2018/47",
          "2018/48",
          "2018/49",
          "2018/5",
          "2018/50",
          "2018/51",
          "2018/52",
          "2018/6",
          "2018/7",
          "2018/8",
          "2018/9",
          "2019/1",
          "2019/10",
          "2019/11",
          "2019/12",
          "2019/13",
          "2019/14",
          "2019/15",
          "2019/16",
          "2019/17",
          "2019/18",
          "2019/2",
          "2019/20",
          "2019/21",
          "2019/22",
          "2019/23",
          "2019/24",
          "2019/25",
          "2019/26",
          "2019/27",
          "2019/28",
          "2019/29",
          "2019/3",
          "2019/30",
          "2019/31",
          "2019/32",
          "2019/33",
          "2019/34",
          "2019/35",
          "2019/36",
          "2019/37",
          "2019/38",
          "2019/4",
          "2019/5",
          "2019/6",
          "2019/7",
          "2019/8",
          "2019/9"
         ],
         "y": [
          1908.2075911060606,
          1776.5337693333336,
          4447.077472952381,
          2906.9826040000003,
          2429.4848128029366,
          3190.513747,
          1103.2809280000001,
          1454.18788,
          5563.195196,
          868.524114,
          3904.60533072381,
          2085.0703973333334,
          5623.547756031747,
          1529.595942857143,
          3892.9571588095237,
          4387.849196,
          2294.2497774139197,
          15014.455413204398,
          1542.198208,
          2700.5005068484847,
          1016.9372950000001,
          3506.8849585333332,
          6071.927933333333,
          402.7545946666667,
          129.2278,
          1274.4283644444445,
          548.6747520000001,
          1569.1662906666666,
          791.4614231111111,
          1396.40498,
          1330.5489420000001,
          164.55144533333333,
          1732.911264,
          1284.04998,
          7109.4162901904765,
          1212.4785186666666,
          2032.52495,
          905.1557041666667,
          1646.909388,
          1369.6906640000002,
          2417.244984,
          3817.9316094627834,
          4741.421759284062,
          3917.550746666667,
          112.7368,
          724.276164,
          1088.838584,
          416.23502074074077,
          1442.9914800000001,
          3386.509082666667,
          1826.0540266666667,
          2475.3694861333333,
          1896.9870233333334,
          781.525832,
          2971.441392,
          4089.1649115238097,
          5242.698202319328,
          1654.1130493333335,
          3687.556193650794,
          2588.38296872722,
          1099.1684808934708,
          2804.2927468000003,
          4297.489218666667,
          882.0324075555556,
          1337.560952,
          5704.519033333334,
          3868.7304355555552,
          907.999336,
          1291.630228,
          896.67432,
          4296.467877772932,
          1506.2503273333334,
          1247.0573422222224,
          2665.7478416235294,
          1845.65524,
          926.18838,
          3633.701904666667,
          887.3346180000001,
          1600.996374,
          4907.915879041847,
          1408.368752,
          2482.003313047619,
          4338.172661333334,
          896.2584401333334,
          2113.0351875555557,
          3845.865537555556,
          2583.5432333333333,
          3645.651899666667,
          2669.316325777778,
          1889.3916643333334,
          1239.8894893333334,
          2552.6737833333336,
          1729.80363,
          3385.302058,
          3600.188827,
          1106.1686546666667,
          1067.8532552,
          1678.7683286666668,
          5579.260149974026,
          2869.713999809524,
          729.949666,
          2332.0853986666666,
          1369.0413279999998
         ]
        },
        {
         "mode": "markers",
         "name": "by phone",
         "type": "scatter",
         "x": [
          "2017/39",
          "2017/40",
          "2017/41",
          "2017/42",
          "2017/43",
          "2017/44",
          "2017/45",
          "2017/46",
          "2017/47",
          "2017/48",
          "2017/49",
          "2017/50",
          "2017/51",
          "2017/52",
          "2018/1",
          "2018/10",
          "2018/11",
          "2018/12",
          "2018/13",
          "2018/14",
          "2018/15",
          "2018/16",
          "2018/17",
          "2018/18",
          "2018/19",
          "2018/2",
          "2018/20",
          "2018/21",
          "2018/22",
          "2018/23",
          "2018/24",
          "2018/25",
          "2018/26",
          "2018/27",
          "2018/28",
          "2018/29",
          "2018/3",
          "2018/30",
          "2018/31",
          "2018/32",
          "2018/33",
          "2018/34",
          "2018/35",
          "2018/36",
          "2018/37",
          "2018/38",
          "2018/39",
          "2018/4",
          "2018/40",
          "2018/41",
          "2018/42",
          "2018/43",
          "2018/44",
          "2018/45",
          "2018/46",
          "2018/47",
          "2018/48",
          "2018/49",
          "2018/5",
          "2018/50",
          "2018/51",
          "2018/52",
          "2018/6",
          "2018/7",
          "2018/8",
          "2018/9",
          "2019/1",
          "2019/10",
          "2019/11",
          "2019/12",
          "2019/13",
          "2019/14",
          "2019/15",
          "2019/16",
          "2019/17",
          "2019/18",
          "2019/19",
          "2019/2",
          "2019/20",
          "2019/21",
          "2019/22",
          "2019/23",
          "2019/24",
          "2019/25",
          "2019/26",
          "2019/27",
          "2019/28",
          "2019/29",
          "2019/3",
          "2019/30",
          "2019/31",
          "2019/32",
          "2019/33",
          "2019/34",
          "2019/35",
          "2019/36",
          "2019/37",
          "2019/38",
          "2019/4",
          "2019/5",
          "2019/6",
          "2019/7",
          "2019/8",
          "2019/9"
         ],
         "y": [
          3284.2936250000002,
          4520.435228718182,
          3871.9131217037034,
          6272.487504000001,
          2054.1010690666667,
          1299.5956800000001,
          5763.276382,
          3253.3868,
          2576.663688,
          3884.4061520000005,
          5237.0815999999995,
          1112.976808,
          8736.488521000001,
          3887.416706333334,
          4122.994851428572,
          153.2076,
          15826.607000515152,
          5832.04238,
          5772.721194,
          2005.7564,
          2069.494,
          1730.53334,
          5863.0036,
          5025.12648,
          886.9481796666666,
          9130.029308000001,
          1570.42344,
          903.0996000000001,
          2090.2308000000003,
          13511.100954141415,
          4289.431613333333,
          21348.945791711114,
          5877.735974,
          4035.3902040000003,
          7881.170076777778,
          5192.972184666667,
          9073.72678,
          8432.56797,
          7613.508997666667,
          6059.209424,
          10969.417221777778,
          7402.849201888889,
          10511.86080311111,
          4087.404274666667,
          8551.645088,
          3002.4752,
          4546.338633090909,
          2546.501802333333,
          4929.653480000001,
          7487.5961225,
          8764.480832000001,
          4438.1904,
          6102.8545,
          5530.787709166667,
          950.0127000000001,
          3256.7264,
          15907.790713467788,
          21835.405605758595,
          15196.456493866668,
          28709.526190066666,
          4236.729352,
          19670.40332173016,
          11846.980959333332,
          3692.1332359999997,
          1558.1695000000002,
          20769.038824000003,
          789.4871133333334,
          15159.421808000001,
          4325.595740000001,
          4562.648,
          11209.430278933334,
          10902.054848611111,
          6660.41337,
          1920.0768,
          4758.727678280702,
          7193.869917466667,
          1099.6668,
          6405.590972666667,
          3212.6450600000003,
          2820.041776,
          5686.511851428571,
          5261.737661333334,
          7274.460589128206,
          35572.527240285715,
          9090.37830247619,
          13356.84131916052,
          8959.286237618708,
          5242.157884,
          19268.383706666667,
          5654.330871333334,
          5163.0450416,
          4612.712263555556,
          7707.886278418301,
          7077.5021389,
          13409.808941869282,
          3704.3041000000003,
          6047.939158222222,
          2148.9084000000003,
          6263.917734666667,
          4608.739905641026,
          6170.493701166667,
          30995.886492877722,
          2384.8922687511736,
          12954.412360000002
         ]
        },
        {
         "mode": "markers",
         "name": "online",
         "type": "scatter",
         "x": [
          "2018/49"
         ],
         "y": [
          261.3996
         ]
        }
       ],
       "layout": {
        "height": 400,
        "template": {
         "data": {
          "bar": [
           {
            "error_x": {
             "color": "#2a3f5f"
            },
            "error_y": {
             "color": "#2a3f5f"
            },
            "marker": {
             "line": {
              "color": "#E5ECF6",
              "width": 0.5
             },
             "pattern": {
              "fillmode": "overlay",
              "size": 10,
              "solidity": 0.2
             }
            },
            "type": "bar"
           }
          ],
          "barpolar": [
           {
            "marker": {
             "line": {
              "color": "#E5ECF6",
              "width": 0.5
             },
             "pattern": {
              "fillmode": "overlay",
              "size": 10,
              "solidity": 0.2
             }
            },
            "type": "barpolar"
           }
          ],
          "carpet": [
           {
            "aaxis": {
             "endlinecolor": "#2a3f5f",
             "gridcolor": "white",
             "linecolor": "white",
             "minorgridcolor": "white",
             "startlinecolor": "#2a3f5f"
            },
            "baxis": {
             "endlinecolor": "#2a3f5f",
             "gridcolor": "white",
             "linecolor": "white",
             "minorgridcolor": "white",
             "startlinecolor": "#2a3f5f"
            },
            "type": "carpet"
           }
          ],
          "choropleth": [
           {
            "colorbar": {
             "outlinewidth": 0,
             "ticks": ""
            },
            "type": "choropleth"
           }
          ],
          "contour": [
           {
            "colorbar": {
             "outlinewidth": 0,
             "ticks": ""
            },
            "colorscale": [
             [
              0,
              "#0d0887"
             ],
             [
              0.1111111111111111,
              "#46039f"
             ],
             [
              0.2222222222222222,
              "#7201a8"
             ],
             [
              0.3333333333333333,
              "#9c179e"
             ],
             [
              0.4444444444444444,
              "#bd3786"
             ],
             [
              0.5555555555555556,
              "#d8576b"
             ],
             [
              0.6666666666666666,
              "#ed7953"
             ],
             [
              0.7777777777777778,
              "#fb9f3a"
             ],
             [
              0.8888888888888888,
              "#fdca26"
             ],
             [
              1,
              "#f0f921"
             ]
            ],
            "type": "contour"
           }
          ],
          "contourcarpet": [
           {
            "colorbar": {
             "outlinewidth": 0,
             "ticks": ""
            },
            "type": "contourcarpet"
           }
          ],
          "heatmap": [
           {
            "colorbar": {
             "outlinewidth": 0,
             "ticks": ""
            },
            "colorscale": [
             [
              0,
              "#0d0887"
             ],
             [
              0.1111111111111111,
              "#46039f"
             ],
             [
              0.2222222222222222,
              "#7201a8"
             ],
             [
              0.3333333333333333,
              "#9c179e"
             ],
             [
              0.4444444444444444,
              "#bd3786"
             ],
             [
              0.5555555555555556,
              "#d8576b"
             ],
             [
              0.6666666666666666,
              "#ed7953"
             ],
             [
              0.7777777777777778,
              "#fb9f3a"
             ],
             [
              0.8888888888888888,
              "#fdca26"
             ],
             [
              1,
              "#f0f921"
             ]
            ],
            "type": "heatmap"
           }
          ],
          "heatmapgl": [
           {
            "colorbar": {
             "outlinewidth": 0,
             "ticks": ""
            },
            "colorscale": [
             [
              0,
              "#0d0887"
             ],
             [
              0.1111111111111111,
              "#46039f"
             ],
             [
              0.2222222222222222,
              "#7201a8"
             ],
             [
              0.3333333333333333,
              "#9c179e"
             ],
             [
              0.4444444444444444,
              "#bd3786"
             ],
             [
              0.5555555555555556,
              "#d8576b"
             ],
             [
              0.6666666666666666,
              "#ed7953"
             ],
             [
              0.7777777777777778,
              "#fb9f3a"
             ],
             [
              0.8888888888888888,
              "#fdca26"
             ],
             [
              1,
              "#f0f921"
             ]
            ],
            "type": "heatmapgl"
           }
          ],
          "histogram": [
           {
            "marker": {
             "pattern": {
              "fillmode": "overlay",
              "size": 10,
              "solidity": 0.2
             }
            },
            "type": "histogram"
           }
          ],
          "histogram2d": [
           {
            "colorbar": {
             "outlinewidth": 0,
             "ticks": ""
            },
            "colorscale": [
             [
              0,
              "#0d0887"
             ],
             [
              0.1111111111111111,
              "#46039f"
             ],
             [
              0.2222222222222222,
              "#7201a8"
             ],
             [
              0.3333333333333333,
              "#9c179e"
             ],
             [
              0.4444444444444444,
              "#bd3786"
             ],
             [
              0.5555555555555556,
              "#d8576b"
             ],
             [
              0.6666666666666666,
              "#ed7953"
             ],
             [
              0.7777777777777778,
              "#fb9f3a"
             ],
             [
              0.8888888888888888,
              "#fdca26"
             ],
             [
              1,
              "#f0f921"
             ]
            ],
            "type": "histogram2d"
           }
          ],
          "histogram2dcontour": [
           {
            "colorbar": {
             "outlinewidth": 0,
             "ticks": ""
            },
            "colorscale": [
             [
              0,
              "#0d0887"
             ],
             [
              0.1111111111111111,
              "#46039f"
             ],
             [
              0.2222222222222222,
              "#7201a8"
             ],
             [
              0.3333333333333333,
              "#9c179e"
             ],
             [
              0.4444444444444444,
              "#bd3786"
             ],
             [
              0.5555555555555556,
              "#d8576b"
             ],
             [
              0.6666666666666666,
              "#ed7953"
             ],
             [
              0.7777777777777778,
              "#fb9f3a"
             ],
             [
              0.8888888888888888,
              "#fdca26"
             ],
             [
              1,
              "#f0f921"
             ]
            ],
            "type": "histogram2dcontour"
           }
          ],
          "mesh3d": [
           {
            "colorbar": {
             "outlinewidth": 0,
             "ticks": ""
            },
            "type": "mesh3d"
           }
          ],
          "parcoords": [
           {
            "line": {
             "colorbar": {
              "outlinewidth": 0,
              "ticks": ""
             }
            },
            "type": "parcoords"
           }
          ],
          "pie": [
           {
            "automargin": true,
            "type": "pie"
           }
          ],
          "scatter": [
           {
            "fillpattern": {
             "fillmode": "overlay",
             "size": 10,
             "solidity": 0.2
            },
            "type": "scatter"
           }
          ],
          "scatter3d": [
           {
            "line": {
             "colorbar": {
              "outlinewidth": 0,
              "ticks": ""
             }
            },
            "marker": {
             "colorbar": {
              "outlinewidth": 0,
              "ticks": ""
             }
            },
            "type": "scatter3d"
           }
          ],
          "scattercarpet": [
           {
            "marker": {
             "colorbar": {
              "outlinewidth": 0,
              "ticks": ""
             }
            },
            "type": "scattercarpet"
           }
          ],
          "scattergeo": [
           {
            "marker": {
             "colorbar": {
              "outlinewidth": 0,
              "ticks": ""
             }
            },
            "type": "scattergeo"
           }
          ],
          "scattergl": [
           {
            "marker": {
             "colorbar": {
              "outlinewidth": 0,
              "ticks": ""
             }
            },
            "type": "scattergl"
           }
          ],
          "scattermapbox": [
           {
            "marker": {
             "colorbar": {
              "outlinewidth": 0,
              "ticks": ""
             }
            },
            "type": "scattermapbox"
           }
          ],
          "scatterpolar": [
           {
            "marker": {
             "colorbar": {
              "outlinewidth": 0,
              "ticks": ""
             }
            },
            "type": "scatterpolar"
           }
          ],
          "scatterpolargl": [
           {
            "marker": {
             "colorbar": {
              "outlinewidth": 0,
              "ticks": ""
             }
            },
            "type": "scatterpolargl"
           }
          ],
          "scatterternary": [
           {
            "marker": {
             "colorbar": {
              "outlinewidth": 0,
              "ticks": ""
             }
            },
            "type": "scatterternary"
           }
          ],
          "surface": [
           {
            "colorbar": {
             "outlinewidth": 0,
             "ticks": ""
            },
            "colorscale": [
             [
              0,
              "#0d0887"
             ],
             [
              0.1111111111111111,
              "#46039f"
             ],
             [
              0.2222222222222222,
              "#7201a8"
             ],
             [
              0.3333333333333333,
              "#9c179e"
             ],
             [
              0.4444444444444444,
              "#bd3786"
             ],
             [
              0.5555555555555556,
              "#d8576b"
             ],
             [
              0.6666666666666666,
              "#ed7953"
             ],
             [
              0.7777777777777778,
              "#fb9f3a"
             ],
             [
              0.8888888888888888,
              "#fdca26"
             ],
             [
              1,
              "#f0f921"
             ]
            ],
            "type": "surface"
           }
          ],
          "table": [
           {
            "cells": {
             "fill": {
              "color": "#EBF0F8"
             },
             "line": {
              "color": "white"
             }
            },
            "header": {
             "fill": {
              "color": "#C8D4E3"
             },
             "line": {
              "color": "white"
             }
            },
            "type": "table"
           }
          ]
         },
         "layout": {
          "annotationdefaults": {
           "arrowcolor": "#2a3f5f",
           "arrowhead": 0,
           "arrowwidth": 1
          },
          "autotypenumbers": "strict",
          "coloraxis": {
           "colorbar": {
            "outlinewidth": 0,
            "ticks": ""
           }
          },
          "colorscale": {
           "diverging": [
            [
             0,
             "#8e0152"
            ],
            [
             0.1,
             "#c51b7d"
            ],
            [
             0.2,
             "#de77ae"
            ],
            [
             0.3,
             "#f1b6da"
            ],
            [
             0.4,
             "#fde0ef"
            ],
            [
             0.5,
             "#f7f7f7"
            ],
            [
             0.6,
             "#e6f5d0"
            ],
            [
             0.7,
             "#b8e186"
            ],
            [
             0.8,
             "#7fbc41"
            ],
            [
             0.9,
             "#4d9221"
            ],
            [
             1,
             "#276419"
            ]
           ],
           "sequential": [
            [
             0,
             "#0d0887"
            ],
            [
             0.1111111111111111,
             "#46039f"
            ],
            [
             0.2222222222222222,
             "#7201a8"
            ],
            [
             0.3333333333333333,
             "#9c179e"
            ],
            [
             0.4444444444444444,
             "#bd3786"
            ],
            [
             0.5555555555555556,
             "#d8576b"
            ],
            [
             0.6666666666666666,
             "#ed7953"
            ],
            [
             0.7777777777777778,
             "#fb9f3a"
            ],
            [
             0.8888888888888888,
             "#fdca26"
            ],
            [
             1,
             "#f0f921"
            ]
           ],
           "sequentialminus": [
            [
             0,
             "#0d0887"
            ],
            [
             0.1111111111111111,
             "#46039f"
            ],
            [
             0.2222222222222222,
             "#7201a8"
            ],
            [
             0.3333333333333333,
             "#9c179e"
            ],
            [
             0.4444444444444444,
             "#bd3786"
            ],
            [
             0.5555555555555556,
             "#d8576b"
            ],
            [
             0.6666666666666666,
             "#ed7953"
            ],
            [
             0.7777777777777778,
             "#fb9f3a"
            ],
            [
             0.8888888888888888,
             "#fdca26"
            ],
            [
             1,
             "#f0f921"
            ]
           ]
          },
          "colorway": [
           "#636efa",
           "#EF553B",
           "#00cc96",
           "#ab63fa",
           "#FFA15A",
           "#19d3f3",
           "#FF6692",
           "#B6E880",
           "#FF97FF",
           "#FECB52"
          ],
          "font": {
           "color": "#2a3f5f"
          },
          "geo": {
           "bgcolor": "white",
           "lakecolor": "white",
           "landcolor": "#E5ECF6",
           "showlakes": true,
           "showland": true,
           "subunitcolor": "white"
          },
          "hoverlabel": {
           "align": "left"
          },
          "hovermode": "closest",
          "mapbox": {
           "style": "light"
          },
          "paper_bgcolor": "white",
          "plot_bgcolor": "#E5ECF6",
          "polar": {
           "angularaxis": {
            "gridcolor": "white",
            "linecolor": "white",
            "ticks": ""
           },
           "bgcolor": "#E5ECF6",
           "radialaxis": {
            "gridcolor": "white",
            "linecolor": "white",
            "ticks": ""
           }
          },
          "scene": {
           "xaxis": {
            "backgroundcolor": "#E5ECF6",
            "gridcolor": "white",
            "gridwidth": 2,
            "linecolor": "white",
            "showbackground": true,
            "ticks": "",
            "zerolinecolor": "white"
           },
           "yaxis": {
            "backgroundcolor": "#E5ECF6",
            "gridcolor": "white",
            "gridwidth": 2,
            "linecolor": "white",
            "showbackground": true,
            "ticks": "",
            "zerolinecolor": "white"
           },
           "zaxis": {
            "backgroundcolor": "#E5ECF6",
            "gridcolor": "white",
            "gridwidth": 2,
            "linecolor": "white",
            "showbackground": true,
            "ticks": "",
            "zerolinecolor": "white"
           }
          },
          "shapedefaults": {
           "line": {
            "color": "#2a3f5f"
           }
          },
          "ternary": {
           "aaxis": {
            "gridcolor": "white",
            "linecolor": "white",
            "ticks": ""
           },
           "baxis": {
            "gridcolor": "white",
            "linecolor": "white",
            "ticks": ""
           },
           "bgcolor": "#E5ECF6",
           "caxis": {
            "gridcolor": "white",
            "linecolor": "white",
            "ticks": ""
           }
          },
          "title": {
           "x": 0.05
          },
          "xaxis": {
           "automargin": true,
           "gridcolor": "white",
           "linecolor": "white",
           "ticks": "",
           "title": {
            "standoff": 15
           },
           "zerolinecolor": "white",
           "zerolinewidth": 2
          },
          "yaxis": {
           "automargin": true,
           "gridcolor": "white",
           "linecolor": "white",
           "ticks": "",
           "title": {
            "standoff": 15
           },
           "zerolinecolor": "white",
           "zerolinewidth": 2
          }
         }
        },
        "width": 800,
        "xaxis": {
         "title": {
          "text": "Date (aggregated per week)"
         }
        },
        "yaxis": {
         "title": {
          "text": "sales_net"
         }
        }
       }
      }
     },
     "metadata": {},
     "output_type": "display_data"
    }
   ],
   "source": [
    "dimension = \"sales_net\"\n",
    "\n",
    "fig = go.Figure()\n",
    "for channel in to_plot2.order_channel.unique():\n",
    "    x = to_plot2[to_plot2.order_channel==channel][\"year/week\"]\n",
    "    y = to_plot2[to_plot2.order_channel==channel][dimension]\n",
    "    fig.add_trace(go.Scatter(x=x, y=y, mode=\"markers\", name=channel))\n",
    "\n",
    "fig.update_layout(yaxis_title=dimension, width=800, height=400)\n",
    "fig.update_layout(xaxis_title='Date (aggregated per week)', width=800, height=400)\n",
    "\n",
    "fig.show()"
   ]
  },
  {
   "attachments": {},
   "cell_type": "markdown",
   "metadata": {},
   "source": [
    "### Process the data"
   ]
  },
  {
   "attachments": {},
   "cell_type": "markdown",
   "metadata": {},
   "source": [
    "We create a new table with features per client and binary target column churn."
   ]
  },
  {
   "cell_type": "code",
   "execution_count": 17,
   "metadata": {},
   "outputs": [],
   "source": [
    "client_id_list = list(df_short[[\"client_id\"]].sort_values('client_id').client_id.unique())"
   ]
  },
  {
   "cell_type": "code",
   "execution_count": 21,
   "metadata": {},
   "outputs": [
    {
     "data": {
      "text/html": [
       "<div>\n",
       "<style scoped>\n",
       "    .dataframe tbody tr th:only-of-type {\n",
       "        vertical-align: middle;\n",
       "    }\n",
       "\n",
       "    .dataframe tbody tr th {\n",
       "        vertical-align: top;\n",
       "    }\n",
       "\n",
       "    .dataframe thead th {\n",
       "        text-align: right;\n",
       "    }\n",
       "</style>\n",
       "<table border=\"1\" class=\"dataframe\">\n",
       "  <thead>\n",
       "    <tr style=\"text-align: right;\">\n",
       "      <th></th>\n",
       "      <th>client_id</th>\n",
       "      <th>churn</th>\n",
       "    </tr>\n",
       "  </thead>\n",
       "  <tbody>\n",
       "    <tr>\n",
       "      <th>0</th>\n",
       "      <td>60</td>\n",
       "      <td>0</td>\n",
       "    </tr>\n",
       "    <tr>\n",
       "      <th>1</th>\n",
       "      <td>774</td>\n",
       "      <td>0</td>\n",
       "    </tr>\n",
       "  </tbody>\n",
       "</table>\n",
       "</div>"
      ],
      "text/plain": [
       "   client_id  churn\n",
       "0         60      0\n",
       "1        774      0"
      ]
     },
     "execution_count": 21,
     "metadata": {},
     "output_type": "execute_result"
    }
   ],
   "source": [
    "churn_table = pd.DataFrame(data={\\\n",
    "    'client_id': client_id_list,\\\n",
    "    'churn': [0 for k in range(len(client_id_list))]\n",
    "    })\n",
    "churn_table.head(2)"
   ]
  },
  {
   "cell_type": "code",
   "execution_count": null,
   "metadata": {},
   "outputs": [],
   "source": []
  },
  {
   "cell_type": "code",
   "execution_count": null,
   "metadata": {},
   "outputs": [],
   "source": []
  }
 ],
 "metadata": {
  "kernelspec": {
   "display_name": "bcg-env",
   "language": "python",
   "name": "python3"
  },
  "language_info": {
   "codemirror_mode": {
    "name": "ipython",
    "version": 3
   },
   "file_extension": ".py",
   "mimetype": "text/x-python",
   "name": "python",
   "nbconvert_exporter": "python",
   "pygments_lexer": "ipython3",
   "version": "3.9.16"
  },
  "orig_nbformat": 4,
  "vscode": {
   "interpreter": {
    "hash": "dcb6828c3682862df576250dd58b581c87dd919192f151ab6dbc345bffabe4bc"
   }
  }
 },
 "nbformat": 4,
 "nbformat_minor": 2
}
