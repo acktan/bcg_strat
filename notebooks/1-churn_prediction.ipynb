{
 "cells": [
  {
   "cell_type": "markdown",
   "metadata": {},
   "source": [
    "### Data importation"
   ]
  },
  {
   "cell_type": "code",
   "execution_count": 1,
   "metadata": {},
   "outputs": [],
   "source": [
    "import pandas as pd\n",
    "import numpy as np\n",
    "from random import sample\n",
    "import matplotlib.pyplot as plt\n",
    "import plotly.graph_objects as go\n",
    "from math import ceil\n",
    "import datetime\n",
    "from dateutil.relativedelta import relativedelta\n",
    "\n",
    "import os"
   ]
  },
  {
   "cell_type": "code",
   "execution_count": 2,
   "metadata": {},
   "outputs": [],
   "source": [
    "root_path = os.path.dirname(os.getcwd())\n",
    "os.chdir(root_path)"
   ]
  },
  {
   "attachments": {},
   "cell_type": "markdown",
   "metadata": {},
   "source": [
    "### Load datasets\n",
    "#### Transactions"
   ]
  },
  {
   "cell_type": "code",
   "execution_count": 3,
   "metadata": {},
   "outputs": [
    {
     "name": "stdout",
     "output_type": "stream",
     "text": [
      "(424254, 8)\n"
     ]
    },
    {
     "data": {
      "text/html": [
       "<div>\n",
       "<style scoped>\n",
       "    .dataframe tbody tr th:only-of-type {\n",
       "        vertical-align: middle;\n",
       "    }\n",
       "\n",
       "    .dataframe tbody tr th {\n",
       "        vertical-align: top;\n",
       "    }\n",
       "\n",
       "    .dataframe thead th {\n",
       "        text-align: right;\n",
       "    }\n",
       "</style>\n",
       "<table border=\"1\" class=\"dataframe\">\n",
       "  <thead>\n",
       "    <tr style=\"text-align: right;\">\n",
       "      <th></th>\n",
       "      <th>date_order</th>\n",
       "      <th>date_invoice</th>\n",
       "      <th>product_id</th>\n",
       "      <th>client_id</th>\n",
       "      <th>sales_net</th>\n",
       "      <th>quantity</th>\n",
       "      <th>order_channel</th>\n",
       "      <th>branch_id</th>\n",
       "    </tr>\n",
       "  </thead>\n",
       "  <tbody>\n",
       "    <tr>\n",
       "      <th>421357</th>\n",
       "      <td>2019-09-22</td>\n",
       "      <td>2019-09-24</td>\n",
       "      <td>1366829</td>\n",
       "      <td>971743</td>\n",
       "      <td>3.0912</td>\n",
       "      <td>21</td>\n",
       "      <td>online</td>\n",
       "      <td>3175</td>\n",
       "    </tr>\n",
       "    <tr>\n",
       "      <th>420871</th>\n",
       "      <td>2019-09-22</td>\n",
       "      <td>2019-09-24</td>\n",
       "      <td>2763020</td>\n",
       "      <td>971743</td>\n",
       "      <td>58.2498</td>\n",
       "      <td>21</td>\n",
       "      <td>online</td>\n",
       "      <td>3175</td>\n",
       "    </tr>\n",
       "  </tbody>\n",
       "</table>\n",
       "</div>"
      ],
      "text/plain": [
       "        date_order date_invoice  product_id  client_id  sales_net  quantity  \\\n",
       "421357  2019-09-22   2019-09-24     1366829     971743     3.0912        21   \n",
       "420871  2019-09-22   2019-09-24     2763020     971743    58.2498        21   \n",
       "\n",
       "       order_channel  branch_id  \n",
       "421357        online       3175  \n",
       "420871        online       3175  "
      ]
     },
     "execution_count": 3,
     "metadata": {},
     "output_type": "execute_result"
    }
   ],
   "source": [
    "# Load transactions\n",
    "df_short = pd.read_csv('data/transaction_data_short.csv')\n",
    "df_short = df_short.sort_values('date_order', ascending=False)\n",
    "print(df_short.shape)\n",
    "df_short.head(2)"
   ]
  },
  {
   "attachments": {},
   "cell_type": "markdown",
   "metadata": {},
   "source": [
    "#### Relationships"
   ]
  },
  {
   "cell_type": "code",
   "execution_count": 106,
   "metadata": {},
   "outputs": [
    {
     "name": "stdout",
     "output_type": "stream",
     "text": [
      "(170589, 2)\n"
     ]
    },
    {
     "data": {
      "text/html": [
       "<div>\n",
       "<style scoped>\n",
       "    .dataframe tbody tr th:only-of-type {\n",
       "        vertical-align: middle;\n",
       "    }\n",
       "\n",
       "    .dataframe tbody tr th {\n",
       "        vertical-align: top;\n",
       "    }\n",
       "\n",
       "    .dataframe thead th {\n",
       "        text-align: right;\n",
       "    }\n",
       "</style>\n",
       "<table border=\"1\" class=\"dataframe\">\n",
       "  <thead>\n",
       "    <tr style=\"text-align: right;\">\n",
       "      <th></th>\n",
       "      <th>client_id</th>\n",
       "      <th>quali_relation</th>\n",
       "    </tr>\n",
       "  </thead>\n",
       "  <tbody>\n",
       "    <tr>\n",
       "      <th>0</th>\n",
       "      <td>188502</td>\n",
       "      <td>Difficult client</td>\n",
       "    </tr>\n",
       "    <tr>\n",
       "      <th>1</th>\n",
       "      <td>598816</td>\n",
       "      <td>Difficult client</td>\n",
       "    </tr>\n",
       "  </tbody>\n",
       "</table>\n",
       "</div>"
      ],
      "text/plain": [
       "   client_id    quali_relation\n",
       "0     188502  Difficult client\n",
       "1     598816  Difficult client"
      ]
     },
     "execution_count": 106,
     "metadata": {},
     "output_type": "execute_result"
    }
   ],
   "source": [
    "# Load client relationships\n",
    "df_rel = pd.read_csv('data/sales_client_relationship_dataset.csv')\n",
    "print(df_rel.shape)\n",
    "df_rel.head(2)"
   ]
  },
  {
   "cell_type": "code",
   "execution_count": 107,
   "metadata": {},
   "outputs": [
    {
     "data": {
      "text/plain": [
       "<Axes: title={'center': 'Relationship distribution in all clients'}, xlabel='quali_relation'>"
      ]
     },
     "execution_count": 107,
     "metadata": {},
     "output_type": "execute_result"
    },
    {
     "data": {
      "image/png": "[encoded data removed]",
      "text/plain": [
       "<Figure size 640x480 with 1 Axes>"
      ]
     },
     "metadata": {},
     "output_type": "display_data"
    }
   ],
   "source": [
    "to_plot = df_rel.groupby('quali_relation').count().reset_index()\n",
    "to_plot.plot.bar(x='quali_relation', y='client_id', title='Relationship distribution in all clients')"
   ]
  },
  {
   "cell_type": "code",
   "execution_count": 10,
   "metadata": {},
   "outputs": [
    {
     "data": {
      "text/plain": [
       "<Axes: title={'center': 'Relationship distribution in the sample'}, xlabel='quali_relation'>"
      ]
     },
     "execution_count": 10,
     "metadata": {},
     "output_type": "execute_result"
    },
    {
     "data": {
      "image/png": "[encoded data removed]",
      "text/plain": [
       "<Figure size 640x480 with 1 Axes>"
      ]
     },
     "metadata": {},
     "output_type": "display_data"
    }
   ],
   "source": [
    "to_plot = df_rel[df_rel.client_id.isin(df_short.client_id)].groupby('quali_relation').count().reset_index()\n",
    "to_plot.plot.bar(x='quali_relation', y='client_id', title='Relationship distribution in the sample')"
   ]
  },
  {
   "attachments": {},
   "cell_type": "markdown",
   "metadata": {},
   "source": [
    "The distribution is similar in our sample. "
   ]
  },
  {
   "attachments": {},
   "cell_type": "markdown",
   "metadata": {},
   "source": [
    "### Building the sliding window\n",
    "We retrieve the sales of a client in a sliding window.  \n",
    "Args:  \n",
    "    churn_date  \n",
    "    client_id  \n",
    "Returns:  \n",
    "    quantity sold at each week during a 6 months period just before churn_date"
   ]
  },
  {
   "cell_type": "code",
   "execution_count": 5,
   "metadata": {},
   "outputs": [],
   "source": [
    "churn_date = '2018-09-25'\n",
    "churn_date = datetime.datetime.strptime(churn_date, '%Y-%m-%d')\n",
    "\n",
    "client_id = 1272143\n",
    "delta_train = 6 # size of the sliding box in month\n",
    "delta_t_churn = 2 # number of weeks in the future taken into account in the churn definition (rule based)"
   ]
  },
  {
   "cell_type": "code",
   "execution_count": 6,
   "metadata": {},
   "outputs": [
    {
     "data": {
      "text/html": [
       "<div>\n",
       "<style scoped>\n",
       "    .dataframe tbody tr th:only-of-type {\n",
       "        vertical-align: middle;\n",
       "    }\n",
       "\n",
       "    .dataframe tbody tr th {\n",
       "        vertical-align: top;\n",
       "    }\n",
       "\n",
       "    .dataframe thead th {\n",
       "        text-align: right;\n",
       "    }\n",
       "</style>\n",
       "<table border=\"1\" class=\"dataframe\">\n",
       "  <thead>\n",
       "    <tr style=\"text-align: right;\">\n",
       "      <th></th>\n",
       "      <th>date_order</th>\n",
       "      <th>date_invoice</th>\n",
       "      <th>product_id</th>\n",
       "      <th>client_id</th>\n",
       "      <th>sales_net</th>\n",
       "      <th>quantity</th>\n",
       "      <th>order_channel</th>\n",
       "      <th>branch_id</th>\n",
       "    </tr>\n",
       "  </thead>\n",
       "  <tbody>\n",
       "    <tr>\n",
       "      <th>208233</th>\n",
       "      <td>2018-09-24</td>\n",
       "      <td>2018-09-24</td>\n",
       "      <td>1575356</td>\n",
       "      <td>1272143</td>\n",
       "      <td>30.050328</td>\n",
       "      <td>101</td>\n",
       "      <td>at the store</td>\n",
       "      <td>5297</td>\n",
       "    </tr>\n",
       "    <tr>\n",
       "      <th>210753</th>\n",
       "      <td>2018-09-24</td>\n",
       "      <td>2018-09-24</td>\n",
       "      <td>1144588</td>\n",
       "      <td>1272143</td>\n",
       "      <td>60.802800</td>\n",
       "      <td>3</td>\n",
       "      <td>at the store</td>\n",
       "      <td>5297</td>\n",
       "    </tr>\n",
       "  </tbody>\n",
       "</table>\n",
       "</div>"
      ],
      "text/plain": [
       "       date_order date_invoice  product_id  client_id  sales_net  quantity  \\\n",
       "208233 2018-09-24   2018-09-24     1575356    1272143  30.050328       101   \n",
       "210753 2018-09-24   2018-09-24     1144588    1272143  60.802800         3   \n",
       "\n",
       "       order_channel  branch_id  \n",
       "208233  at the store       5297  \n",
       "210753  at the store       5297  "
      ]
     },
     "execution_count": 6,
     "metadata": {},
     "output_type": "execute_result"
    }
   ],
   "source": [
    "# Select the right date range and the right client. \n",
    "sample_df = df_short[df_short.client_id==client_id].copy()\n",
    "sample_df[\"date_order\"] = pd.to_datetime(sample_df.date_order)\n",
    "sample_df[\"date_invoice\"] = pd.to_datetime(sample_df.date_order)\n",
    "\n",
    "end_date = churn_date\n",
    "start_date = end_date - relativedelta(months=6)\n",
    "sample_df = sample_df[(sample_df.date_order>start_date) * (sample_df.date_order<churn_date)]\n",
    "\n",
    "sample_df.head(2)"
   ]
  },
  {
   "attachments": {},
   "cell_type": "markdown",
   "metadata": {},
   "source": [
    "#### Features to put in the train/test dataset : \n",
    "- 5 : total sales_net in the last week, in the last 2 weeks, in the last month, in the last 3 months, in the last 6 months. \n",
    "- 5 : variance of sales_net over the same periods.\n",
    "- 5 : mean time between two orders over the same periods of time\n",
    "- 3 : percentage of usage of each channel\n",
    "- 1 : relationship with the client\n",
    "- 1 : number of different products bought\n",
    "- 1 : std of the time between two orders  \n",
    "- 1 : mean time difference between order and invoice  \n",
    "= 18 features"
   ]
  },
  {
   "cell_type": "code",
   "execution_count": 210,
   "metadata": {},
   "outputs": [
    {
     "data": {
      "text/html": [
       "<div>\n",
       "<style scoped>\n",
       "    .dataframe tbody tr th:only-of-type {\n",
       "        vertical-align: middle;\n",
       "    }\n",
       "\n",
       "    .dataframe tbody tr th {\n",
       "        vertical-align: top;\n",
       "    }\n",
       "\n",
       "    .dataframe thead th {\n",
       "        text-align: right;\n",
       "    }\n",
       "</style>\n",
       "<table border=\"1\" class=\"dataframe\">\n",
       "  <thead>\n",
       "    <tr style=\"text-align: right;\">\n",
       "      <th></th>\n",
       "      <th>client_id</th>\n",
       "      <th>mean_1</th>\n",
       "      <th>std_1</th>\n",
       "      <th>mean_delta_time_1</th>\n",
       "      <th>mean_2</th>\n",
       "      <th>std_2</th>\n",
       "      <th>mean_delta_time_2</th>\n",
       "      <th>mean_4</th>\n",
       "      <th>std_4</th>\n",
       "      <th>mean_delta_time_4</th>\n",
       "      <th>mean_12</th>\n",
       "      <th>std_12</th>\n",
       "      <th>mean_delta_time_12</th>\n",
       "      <th>mean_24</th>\n",
       "      <th>std_24</th>\n",
       "      <th>mean_delta_time_24</th>\n",
       "      <th>std_delta_time</th>\n",
       "    </tr>\n",
       "  </thead>\n",
       "  <tbody>\n",
       "    <tr>\n",
       "      <th>0</th>\n",
       "      <td>1272143</td>\n",
       "      <td>81.126756</td>\n",
       "      <td>174.094633</td>\n",
       "      <td>1 days 16:00:00</td>\n",
       "      <td>173.00053</td>\n",
       "      <td>246.998732</td>\n",
       "      <td>1 days 12:00:00</td>\n",
       "      <td>203.398521</td>\n",
       "      <td>310.483265</td>\n",
       "      <td>1 days 15:00:00</td>\n",
       "      <td>162.714686</td>\n",
       "      <td>274.748131</td>\n",
       "      <td>1 days 13:07:55.471698113</td>\n",
       "      <td>168.129588</td>\n",
       "      <td>289.247436</td>\n",
       "      <td>1 days 14:40:46.601941747</td>\n",
       "      <td>1 days 02:04:55.750301142</td>\n",
       "    </tr>\n",
       "  </tbody>\n",
       "</table>\n",
       "</div>"
      ],
      "text/plain": [
       "   client_id     mean_1       std_1 mean_delta_time_1     mean_2       std_2  \\\n",
       "0    1272143  81.126756  174.094633   1 days 16:00:00  173.00053  246.998732   \n",
       "\n",
       "  mean_delta_time_2      mean_4       std_4 mean_delta_time_4     mean_12  \\\n",
       "0   1 days 12:00:00  203.398521  310.483265   1 days 15:00:00  162.714686   \n",
       "\n",
       "       std_12        mean_delta_time_12     mean_24      std_24  \\\n",
       "0  274.748131 1 days 13:07:55.471698113  168.129588  289.247436   \n",
       "\n",
       "         mean_delta_time_24            std_delta_time  \n",
       "0 1 days 14:40:46.601941747 1 days 02:04:55.750301142  "
      ]
     },
     "execution_count": 210,
     "metadata": {},
     "output_type": "execute_result"
    }
   ],
   "source": [
    "# Add statistics on sales\n",
    "delta_t_list = [1, 2, 4, 12, 24] # in week \n",
    "all_features = pd.DataFrame(data={'client_id': [client_id]})\n",
    "\n",
    "for delta_t in delta_t_list:\n",
    "    start_t = churn_date - relativedelta(weeks=delta_t)\n",
    "    df = sample_df[sample_df.date_order>start_t][[\"sales_net\", \"client_id\", \"date_order\", \"invoice_order\"]].copy()\n",
    "\n",
    "    # Add average and standard deviation of sales_net\n",
    "    features_delta_t = df[[\"sales_net\", \"client_id\"]]\\\n",
    "        .groupby(\"client_id\")\\\n",
    "        .agg(['mean', 'std'])\\\n",
    "        .rename(columns={'mean': f'mean_{delta_t}', 'std': f'std_{delta_t}'})['sales_net']\\\n",
    "        .reset_index()\\\n",
    "\n",
    "    all_features[[f'mean_{delta_t}', f'std_{delta_t}']] = features_delta_t[[f'mean_{delta_t}', f'std_{delta_t}']]\n",
    "\n",
    "    # Add mean time between two orders\n",
    "    df_time_diff = df[['date_order']].sort_values('date_order', ascending=False).groupby('date_order').sum().reset_index().copy()\n",
    "    df_time_diff[\"delta_time\"] = df_time_diff.date_order - df_time_diff.date_order.shift(1)\n",
    "\n",
    "    all_features[f'mean_delta_time_{delta_t}'] = df_time_diff.delta_time.mean()\n",
    "    if delta_t==24:\n",
    "        # Add the standard deviation of the time between two orders\n",
    "        all_features[f'std_delta_time'] = df_time_diff.delta_time.std()\n",
    "\n",
    "all_features.head()"
   ]
  },
  {
   "cell_type": "code",
   "execution_count": 212,
   "metadata": {},
   "outputs": [
    {
     "data": {
      "text/html": [
       "<div>\n",
       "<style scoped>\n",
       "    .dataframe tbody tr th:only-of-type {\n",
       "        vertical-align: middle;\n",
       "    }\n",
       "\n",
       "    .dataframe tbody tr th {\n",
       "        vertical-align: top;\n",
       "    }\n",
       "\n",
       "    .dataframe thead th {\n",
       "        text-align: right;\n",
       "    }\n",
       "</style>\n",
       "<table border=\"1\" class=\"dataframe\">\n",
       "  <thead>\n",
       "    <tr style=\"text-align: right;\">\n",
       "      <th></th>\n",
       "      <th>client_id</th>\n",
       "      <th>mean_1</th>\n",
       "      <th>std_1</th>\n",
       "      <th>mean_delta_time_1</th>\n",
       "      <th>mean_2</th>\n",
       "      <th>std_2</th>\n",
       "      <th>mean_delta_time_2</th>\n",
       "      <th>mean_4</th>\n",
       "      <th>std_4</th>\n",
       "      <th>mean_delta_time_4</th>\n",
       "      <th>...</th>\n",
       "      <th>mean_delta_time_24</th>\n",
       "      <th>std_delta_time</th>\n",
       "      <th>at the store</th>\n",
       "      <th>by phone</th>\n",
       "      <th>online</th>\n",
       "      <th>other</th>\n",
       "      <th>during the visit of a sales rep</th>\n",
       "      <th>relationship</th>\n",
       "      <th>n_products</th>\n",
       "      <th>mean_diff_order_invoice</th>\n",
       "    </tr>\n",
       "  </thead>\n",
       "  <tbody>\n",
       "    <tr>\n",
       "      <th>0</th>\n",
       "      <td>1272143</td>\n",
       "      <td>81.126756</td>\n",
       "      <td>174.094633</td>\n",
       "      <td>1 days 16:00:00</td>\n",
       "      <td>173.00053</td>\n",
       "      <td>246.998732</td>\n",
       "      <td>1 days 12:00:00</td>\n",
       "      <td>203.398521</td>\n",
       "      <td>310.483265</td>\n",
       "      <td>1 days 15:00:00</td>\n",
       "      <td>...</td>\n",
       "      <td>1 days 14:40:46.601941747</td>\n",
       "      <td>1 days 02:04:55.750301142</td>\n",
       "      <td>0.478666</td>\n",
       "      <td>0.521334</td>\n",
       "      <td>0.0</td>\n",
       "      <td>0.0</td>\n",
       "      <td>0.0</td>\n",
       "      <td>Demanding client</td>\n",
       "      <td>556</td>\n",
       "      <td>1 days 07:26:51.481768813</td>\n",
       "    </tr>\n",
       "  </tbody>\n",
       "</table>\n",
       "<p>1 rows × 25 columns</p>\n",
       "</div>"
      ],
      "text/plain": [
       "   client_id     mean_1       std_1 mean_delta_time_1     mean_2       std_2  \\\n",
       "0    1272143  81.126756  174.094633   1 days 16:00:00  173.00053  246.998732   \n",
       "\n",
       "  mean_delta_time_2      mean_4       std_4 mean_delta_time_4  ...  \\\n",
       "0   1 days 12:00:00  203.398521  310.483265   1 days 15:00:00  ...   \n",
       "\n",
       "         mean_delta_time_24            std_delta_time at the store  by phone  \\\n",
       "0 1 days 14:40:46.601941747 1 days 02:04:55.750301142     0.478666  0.521334   \n",
       "\n",
       "   online other during the visit of a sales rep      relationship  n_products  \\\n",
       "0     0.0   0.0                             0.0  Demanding client         556   \n",
       "\n",
       "    mean_diff_order_invoice  \n",
       "0 1 days 07:26:51.481768813  \n",
       "\n",
       "[1 rows x 25 columns]"
      ]
     },
     "execution_count": 212,
     "metadata": {},
     "output_type": "execute_result"
    }
   ],
   "source": [
    "# Add channel ratios\n",
    "channel_list = ['at the store', 'by phone', 'online', 'other', 'during the visit of a sales rep']\n",
    "for channel in channel_list:\n",
    "    all_features[f'{channel}'] = (sample_df.order_channel==channel).sum()/len(sample_df)\n",
    "\n",
    "# Add relationship with client\n",
    "all_features[\"relationship\"] = df_rel[df_rel.client_id==client_id].iloc[0,:].at['quali_relation']\n",
    "\n",
    "# Add number of products bought\n",
    "all_features[\"n_products\"] = sample_df.product_id.nunique()\n",
    "\n",
    "# Add mean time between order and invoice\n",
    "all_features[\"mean_diff_order_invoice\"] = (sample_df.date_invoice - sample_df.date_order).mean()\n",
    "\n",
    "all_features.head()"
   ]
  },
  {
   "cell_type": "code",
   "execution_count": null,
   "metadata": {},
   "outputs": [],
   "source": [
    "# Add standard deviation of the time between two orders\n",
    "all_features[\"n_products\"]"
   ]
  },
  {
   "cell_type": "code",
   "execution_count": 220,
   "metadata": {},
   "outputs": [
    {
     "data": {
      "text/html": [
       "<div>\n",
       "<style scoped>\n",
       "    .dataframe tbody tr th:only-of-type {\n",
       "        vertical-align: middle;\n",
       "    }\n",
       "\n",
       "    .dataframe tbody tr th {\n",
       "        vertical-align: top;\n",
       "    }\n",
       "\n",
       "    .dataframe thead th {\n",
       "        text-align: right;\n",
       "    }\n",
       "</style>\n",
       "<table border=\"1\" class=\"dataframe\">\n",
       "  <thead>\n",
       "    <tr style=\"text-align: right;\">\n",
       "      <th></th>\n",
       "      <th>diff</th>\n",
       "    </tr>\n",
       "  </thead>\n",
       "  <tbody>\n",
       "    <tr>\n",
       "      <th>208233</th>\n",
       "      <td>0 days</td>\n",
       "    </tr>\n",
       "    <tr>\n",
       "      <th>145566</th>\n",
       "      <td>0 days</td>\n",
       "    </tr>\n",
       "    <tr>\n",
       "      <th>146240</th>\n",
       "      <td>0 days</td>\n",
       "    </tr>\n",
       "    <tr>\n",
       "      <th>147293</th>\n",
       "      <td>0 days</td>\n",
       "    </tr>\n",
       "    <tr>\n",
       "      <th>145896</th>\n",
       "      <td>0 days</td>\n",
       "    </tr>\n",
       "    <tr>\n",
       "      <th>...</th>\n",
       "      <td>...</td>\n",
       "    </tr>\n",
       "    <tr>\n",
       "      <th>154225</th>\n",
       "      <td>50 days</td>\n",
       "    </tr>\n",
       "    <tr>\n",
       "      <th>211423</th>\n",
       "      <td>56 days</td>\n",
       "    </tr>\n",
       "    <tr>\n",
       "      <th>211469</th>\n",
       "      <td>56 days</td>\n",
       "    </tr>\n",
       "    <tr>\n",
       "      <th>237219</th>\n",
       "      <td>69 days</td>\n",
       "    </tr>\n",
       "    <tr>\n",
       "      <th>261662</th>\n",
       "      <td>234 days</td>\n",
       "    </tr>\n",
       "  </tbody>\n",
       "</table>\n",
       "<p>1289 rows × 1 columns</p>\n",
       "</div>"
      ],
      "text/plain": [
       "           diff\n",
       "208233   0 days\n",
       "145566   0 days\n",
       "146240   0 days\n",
       "147293   0 days\n",
       "145896   0 days\n",
       "...         ...\n",
       "154225  50 days\n",
       "211423  56 days\n",
       "211469  56 days\n",
       "237219  69 days\n",
       "261662 234 days\n",
       "\n",
       "[1289 rows x 1 columns]"
      ]
     },
     "execution_count": 220,
     "metadata": {},
     "output_type": "execute_result"
    }
   ],
   "source": [
    "pd.DataFrame(data={'diff': sample_df.date_invoice - sample_df.date_order}).sort_values('diff')"
   ]
  },
  {
   "cell_type": "code",
   "execution_count": 222,
   "metadata": {},
   "outputs": [
    {
     "data": {
      "text/plain": [
       "date_order       2018-04-24 00:00:00\n",
       "date_invoice     2018-12-14 00:00:00\n",
       "product_id                   2019872\n",
       "client_id                    1272143\n",
       "sales_net                  -248.4552\n",
       "quantity                           3\n",
       "order_channel               by phone\n",
       "branch_id                       1102\n",
       "Name: 261662, dtype: object"
      ]
     },
     "execution_count": 222,
     "metadata": {},
     "output_type": "execute_result"
    }
   ],
   "source": [
    "sample_df.loc[261662, :]"
   ]
  },
  {
   "cell_type": "code",
   "execution_count": 7,
   "metadata": {},
   "outputs": [],
   "source": [
    "from src.plot_utils import plot_ts"
   ]
  },
  {
   "cell_type": "code",
   "execution_count": 8,
   "metadata": {},
   "outputs": [
    {
     "data": {
      "application/vnd.plotly.v1+json": {
       "config": {
        "plotlyServerURL": "https://plot.ly"
       },
       "data": [
        {
         "mode": "markers",
         "name": "at the store",
         "type": "scatter",
         "x": [
          "2018/13",
          "2018/14",
          "2018/15",
          "2018/16",
          "2018/17",
          "2018/18",
          "2018/19",
          "2018/20",
          "2018/21",
          "2018/22",
          "2018/23",
          "2018/24",
          "2018/25",
          "2018/26",
          "2018/27",
          "2018/28",
          "2018/29",
          "2018/30",
          "2018/31",
          "2018/32",
          "2018/33",
          "2018/34",
          "2018/35",
          "2018/36",
          "2018/37",
          "2018/38",
          "2018/39"
         ],
         "y": [
          1542.198208,
          2700.5005068484847,
          1016.9372950000001,
          3506.8849585333337,
          6071.927933333333,
          402.75459466666666,
          129.2278,
          548.674752,
          1569.1662906666666,
          791.4614231111111,
          1396.40498,
          1330.5489420000001,
          164.55144533333333,
          1732.911264,
          1284.04998,
          7109.4162901904765,
          1212.4785186666668,
          905.1557041666667,
          1646.909388,
          1369.6906640000002,
          2417.244984,
          3817.9316094627834,
          4741.421759284062,
          3917.550746666667,
          112.7368,
          724.276164,
          90.85312800000001
         ]
        },
        {
         "mode": "markers",
         "name": "by phone",
         "type": "scatter",
         "x": [
          "2018/13",
          "2018/14",
          "2018/15",
          "2018/16",
          "2018/17",
          "2018/18",
          "2018/19",
          "2018/20",
          "2018/21",
          "2018/22",
          "2018/23",
          "2018/24",
          "2018/25",
          "2018/26",
          "2018/27",
          "2018/28",
          "2018/29",
          "2018/30",
          "2018/31",
          "2018/32",
          "2018/33",
          "2018/34",
          "2018/35",
          "2018/36",
          "2018/37",
          "2018/38"
         ],
         "y": [
          5772.721194,
          2005.7564,
          2069.494,
          1730.5333400000002,
          5863.0036,
          5025.12648,
          886.9481796666666,
          1570.42344,
          903.0996000000001,
          2090.2308,
          13511.100954141415,
          4289.431613333333,
          21348.94579171111,
          5877.735974,
          4035.390204,
          7881.170076777778,
          5192.972184666667,
          8432.56797,
          7613.508997666667,
          6059.209424000001,
          10969.417221777778,
          7402.849201888888,
          10511.86080311111,
          4087.404274666667,
          8551.645088,
          3002.4752
         ]
        }
       ],
       "layout": {
        "height": 400,
        "template": {
         "data": {
          "bar": [
           {
            "error_x": {
             "color": "#2a3f5f"
            },
            "error_y": {
             "color": "#2a3f5f"
            },
            "marker": {
             "line": {
              "color": "#E5ECF6",
              "width": 0.5
             },
             "pattern": {
              "fillmode": "overlay",
              "size": 10,
              "solidity": 0.2
             }
            },
            "type": "bar"
           }
          ],
          "barpolar": [
           {
            "marker": {
             "line": {
              "color": "#E5ECF6",
              "width": 0.5
             },
             "pattern": {
              "fillmode": "overlay",
              "size": 10,
              "solidity": 0.2
             }
            },
            "type": "barpolar"
           }
          ],
          "carpet": [
           {
            "aaxis": {
             "endlinecolor": "#2a3f5f",
             "gridcolor": "white",
             "linecolor": "white",
             "minorgridcolor": "white",
             "startlinecolor": "#2a3f5f"
            },
            "baxis": {
             "endlinecolor": "#2a3f5f",
             "gridcolor": "white",
             "linecolor": "white",
             "minorgridcolor": "white",
             "startlinecolor": "#2a3f5f"
            },
            "type": "carpet"
           }
          ],
          "choropleth": [
           {
            "colorbar": {
             "outlinewidth": 0,
             "ticks": ""
            },
            "type": "choropleth"
           }
          ],
          "contour": [
           {
            "colorbar": {
             "outlinewidth": 0,
             "ticks": ""
            },
            "colorscale": [
             [
              0,
              "#0d0887"
             ],
             [
              0.1111111111111111,
              "#46039f"
             ],
             [
              0.2222222222222222,
              "#7201a8"
             ],
             [
              0.3333333333333333,
              "#9c179e"
             ],
             [
              0.4444444444444444,
              "#bd3786"
             ],
             [
              0.5555555555555556,
              "#d8576b"
             ],
             [
              0.6666666666666666,
              "#ed7953"
             ],
             [
              0.7777777777777778,
              "#fb9f3a"
             ],
             [
              0.8888888888888888,
              "#fdca26"
             ],
             [
              1,
              "#f0f921"
             ]
            ],
            "type": "contour"
           }
          ],
          "contourcarpet": [
           {
            "colorbar": {
             "outlinewidth": 0,
             "ticks": ""
            },
            "type": "contourcarpet"
           }
          ],
          "heatmap": [
           {
            "colorbar": {
             "outlinewidth": 0,
             "ticks": ""
            },
            "colorscale": [
             [
              0,
              "#0d0887"
             ],
             [
              0.1111111111111111,
              "#46039f"
             ],
             [
              0.2222222222222222,
              "#7201a8"
             ],
             [
              0.3333333333333333,
              "#9c179e"
             ],
             [
              0.4444444444444444,
              "#bd3786"
             ],
             [
              0.5555555555555556,
              "#d8576b"
             ],
             [
              0.6666666666666666,
              "#ed7953"
             ],
             [
              0.7777777777777778,
              "#fb9f3a"
             ],
             [
              0.8888888888888888,
              "#fdca26"
             ],
             [
              1,
              "#f0f921"
             ]
            ],
            "type": "heatmap"
           }
          ],
          "heatmapgl": [
           {
            "colorbar": {
             "outlinewidth": 0,
             "ticks": ""
            },
            "colorscale": [
             [
              0,
              "#0d0887"
             ],
             [
              0.1111111111111111,
              "#46039f"
             ],
             [
              0.2222222222222222,
              "#7201a8"
             ],
             [
              0.3333333333333333,
              "#9c179e"
             ],
             [
              0.4444444444444444,
              "#bd3786"
             ],
             [
              0.5555555555555556,
              "#d8576b"
             ],
             [
              0.6666666666666666,
              "#ed7953"
             ],
             [
              0.7777777777777778,
              "#fb9f3a"
             ],
             [
              0.8888888888888888,
              "#fdca26"
             ],
             [
              1,
              "#f0f921"
             ]
            ],
            "type": "heatmapgl"
           }
          ],
          "histogram": [
           {
            "marker": {
             "pattern": {
              "fillmode": "overlay",
              "size": 10,
              "solidity": 0.2
             }
            },
            "type": "histogram"
           }
          ],
          "histogram2d": [
           {
            "colorbar": {
             "outlinewidth": 0,
             "ticks": ""
            },
            "colorscale": [
             [
              0,
              "#0d0887"
             ],
             [
              0.1111111111111111,
              "#46039f"
             ],
             [
              0.2222222222222222,
              "#7201a8"
             ],
             [
              0.3333333333333333,
              "#9c179e"
             ],
             [
              0.4444444444444444,
              "#bd3786"
             ],
             [
              0.5555555555555556,
              "#d8576b"
             ],
             [
              0.6666666666666666,
              "#ed7953"
             ],
             [
              0.7777777777777778,
              "#fb9f3a"
             ],
             [
              0.8888888888888888,
              "#fdca26"
             ],
             [
              1,
              "#f0f921"
             ]
            ],
            "type": "histogram2d"
           }
          ],
          "histogram2dcontour": [
           {
            "colorbar": {
             "outlinewidth": 0,
             "ticks": ""
            },
            "colorscale": [
             [
              0,
              "#0d0887"
             ],
             [
              0.1111111111111111,
              "#46039f"
             ],
             [
              0.2222222222222222,
              "#7201a8"
             ],
             [
              0.3333333333333333,
              "#9c179e"
             ],
             [
              0.4444444444444444,
              "#bd3786"
             ],
             [
              0.5555555555555556,
              "#d8576b"
             ],
             [
              0.6666666666666666,
              "#ed7953"
             ],
             [
              0.7777777777777778,
              "#fb9f3a"
             ],
             [
              0.8888888888888888,
              "#fdca26"
             ],
             [
              1,
              "#f0f921"
             ]
            ],
            "type": "histogram2dcontour"
           }
          ],
          "mesh3d": [
           {
            "colorbar": {
             "outlinewidth": 0,
             "ticks": ""
            },
            "type": "mesh3d"
           }
          ],
          "parcoords": [
           {
            "line": {
             "colorbar": {
              "outlinewidth": 0,
              "ticks": ""
             }
            },
            "type": "parcoords"
           }
          ],
          "pie": [
           {
            "automargin": true,
            "type": "pie"
           }
          ],
          "scatter": [
           {
            "fillpattern": {
             "fillmode": "overlay",
             "size": 10,
             "solidity": 0.2
            },
            "type": "scatter"
           }
          ],
          "scatter3d": [
           {
            "line": {
             "colorbar": {
              "outlinewidth": 0,
              "ticks": ""
             }
            },
            "marker": {
             "colorbar": {
              "outlinewidth": 0,
              "ticks": ""
             }
            },
            "type": "scatter3d"
           }
          ],
          "scattercarpet": [
           {
            "marker": {
             "colorbar": {
              "outlinewidth": 0,
              "ticks": ""
             }
            },
            "type": "scattercarpet"
           }
          ],
          "scattergeo": [
           {
            "marker": {
             "colorbar": {
              "outlinewidth": 0,
              "ticks": ""
             }
            },
            "type": "scattergeo"
           }
          ],
          "scattergl": [
           {
            "marker": {
             "colorbar": {
              "outlinewidth": 0,
              "ticks": ""
             }
            },
            "type": "scattergl"
           }
          ],
          "scattermapbox": [
           {
            "marker": {
             "colorbar": {
              "outlinewidth": 0,
              "ticks": ""
             }
            },
            "type": "scattermapbox"
           }
          ],
          "scatterpolar": [
           {
            "marker": {
             "colorbar": {
              "outlinewidth": 0,
              "ticks": ""
             }
            },
            "type": "scatterpolar"
           }
          ],
          "scatterpolargl": [
           {
            "marker": {
             "colorbar": {
              "outlinewidth": 0,
              "ticks": ""
             }
            },
            "type": "scatterpolargl"
           }
          ],
          "scatterternary": [
           {
            "marker": {
             "colorbar": {
              "outlinewidth": 0,
              "ticks": ""
             }
            },
            "type": "scatterternary"
           }
          ],
          "surface": [
           {
            "colorbar": {
             "outlinewidth": 0,
             "ticks": ""
            },
            "colorscale": [
             [
              0,
              "#0d0887"
             ],
             [
              0.1111111111111111,
              "#46039f"
             ],
             [
              0.2222222222222222,
              "#7201a8"
             ],
             [
              0.3333333333333333,
              "#9c179e"
             ],
             [
              0.4444444444444444,
              "#bd3786"
             ],
             [
              0.5555555555555556,
              "#d8576b"
             ],
             [
              0.6666666666666666,
              "#ed7953"
             ],
             [
              0.7777777777777778,
              "#fb9f3a"
             ],
             [
              0.8888888888888888,
              "#fdca26"
             ],
             [
              1,
              "#f0f921"
             ]
            ],
            "type": "surface"
           }
          ],
          "table": [
           {
            "cells": {
             "fill": {
              "color": "#EBF0F8"
             },
             "line": {
              "color": "white"
             }
            },
            "header": {
             "fill": {
              "color": "#C8D4E3"
             },
             "line": {
              "color": "white"
             }
            },
            "type": "table"
           }
          ]
         },
         "layout": {
          "annotationdefaults": {
           "arrowcolor": "#2a3f5f",
           "arrowhead": 0,
           "arrowwidth": 1
          },
          "autotypenumbers": "strict",
          "coloraxis": {
           "colorbar": {
            "outlinewidth": 0,
            "ticks": ""
           }
          },
          "colorscale": {
           "diverging": [
            [
             0,
             "#8e0152"
            ],
            [
             0.1,
             "#c51b7d"
            ],
            [
             0.2,
             "#de77ae"
            ],
            [
             0.3,
             "#f1b6da"
            ],
            [
             0.4,
             "#fde0ef"
            ],
            [
             0.5,
             "#f7f7f7"
            ],
            [
             0.6,
             "#e6f5d0"
            ],
            [
             0.7,
             "#b8e186"
            ],
            [
             0.8,
             "#7fbc41"
            ],
            [
             0.9,
             "#4d9221"
            ],
            [
             1,
             "#276419"
            ]
           ],
           "sequential": [
            [
             0,
             "#0d0887"
            ],
            [
             0.1111111111111111,
             "#46039f"
            ],
            [
             0.2222222222222222,
             "#7201a8"
            ],
            [
             0.3333333333333333,
             "#9c179e"
            ],
            [
             0.4444444444444444,
             "#bd3786"
            ],
            [
             0.5555555555555556,
             "#d8576b"
            ],
            [
             0.6666666666666666,
             "#ed7953"
            ],
            [
             0.7777777777777778,
             "#fb9f3a"
            ],
            [
             0.8888888888888888,
             "#fdca26"
            ],
            [
             1,
             "#f0f921"
            ]
           ],
           "sequentialminus": [
            [
             0,
             "#0d0887"
            ],
            [
             0.1111111111111111,
             "#46039f"
            ],
            [
             0.2222222222222222,
             "#7201a8"
            ],
            [
             0.3333333333333333,
             "#9c179e"
            ],
            [
             0.4444444444444444,
             "#bd3786"
            ],
            [
             0.5555555555555556,
             "#d8576b"
            ],
            [
             0.6666666666666666,
             "#ed7953"
            ],
            [
             0.7777777777777778,
             "#fb9f3a"
            ],
            [
             0.8888888888888888,
             "#fdca26"
            ],
            [
             1,
             "#f0f921"
            ]
           ]
          },
          "colorway": [
           "#636efa",
           "#EF553B",
           "#00cc96",
           "#ab63fa",
           "#FFA15A",
           "#19d3f3",
           "#FF6692",
           "#B6E880",
           "#FF97FF",
           "#FECB52"
          ],
          "font": {
           "color": "#2a3f5f"
          },
          "geo": {
           "bgcolor": "white",
           "lakecolor": "white",
           "landcolor": "#E5ECF6",
           "showlakes": true,
           "showland": true,
           "subunitcolor": "white"
          },
          "hoverlabel": {
           "align": "left"
          },
          "hovermode": "closest",
          "mapbox": {
           "style": "light"
          },
          "paper_bgcolor": "white",
          "plot_bgcolor": "#E5ECF6",
          "polar": {
           "angularaxis": {
            "gridcolor": "white",
            "linecolor": "white",
            "ticks": ""
           },
           "bgcolor": "#E5ECF6",
           "radialaxis": {
            "gridcolor": "white",
            "linecolor": "white",
            "ticks": ""
           }
          },
          "scene": {
           "xaxis": {
            "backgroundcolor": "#E5ECF6",
            "gridcolor": "white",
            "gridwidth": 2,
            "linecolor": "white",
            "showbackground": true,
            "ticks": "",
            "zerolinecolor": "white"
           },
           "yaxis": {
            "backgroundcolor": "#E5ECF6",
            "gridcolor": "white",
            "gridwidth": 2,
            "linecolor": "white",
            "showbackground": true,
            "ticks": "",
            "zerolinecolor": "white"
           },
           "zaxis": {
            "backgroundcolor": "#E5ECF6",
            "gridcolor": "white",
            "gridwidth": 2,
            "linecolor": "white",
            "showbackground": true,
            "ticks": "",
            "zerolinecolor": "white"
           }
          },
          "shapedefaults": {
           "line": {
            "color": "#2a3f5f"
           }
          },
          "ternary": {
           "aaxis": {
            "gridcolor": "white",
            "linecolor": "white",
            "ticks": ""
           },
           "baxis": {
            "gridcolor": "white",
            "linecolor": "white",
            "ticks": ""
           },
           "bgcolor": "#E5ECF6",
           "caxis": {
            "gridcolor": "white",
            "linecolor": "white",
            "ticks": ""
           }
          },
          "title": {
           "x": 0.05
          },
          "xaxis": {
           "automargin": true,
           "gridcolor": "white",
           "linecolor": "white",
           "ticks": "",
           "title": {
            "standoff": 15
           },
           "zerolinecolor": "white",
           "zerolinewidth": 2
          },
          "yaxis": {
           "automargin": true,
           "gridcolor": "white",
           "linecolor": "white",
           "ticks": "",
           "title": {
            "standoff": 15
           },
           "zerolinecolor": "white",
           "zerolinewidth": 2
          }
         }
        },
        "width": 800,
        "xaxis": {
         "title": {
          "text": "Date (aggregated per week)"
         }
        },
        "yaxis": {
         "title": {
          "text": "sales_net"
         }
        }
       }
      }
     },
     "metadata": {},
     "output_type": "display_data"
    }
   ],
   "source": [
    "plot_ts(sample_df)"
   ]
  },
  {
   "cell_type": "code",
   "execution_count": null,
   "metadata": {},
   "outputs": [],
   "source": []
  }
 ],
 "metadata": {
  "kernelspec": {
   "display_name": "bcg-env",
   "language": "python",
   "name": "python3"
  },
  "language_info": {
   "codemirror_mode": {
    "name": "ipython",
    "version": 3
   },
   "file_extension": ".py",
   "mimetype": "text/x-python",
   "name": "python",
   "nbconvert_exporter": "python",
   "pygments_lexer": "ipython3",
   "version": "3.9.16"
  },
  "orig_nbformat": 4,
  "vscode": {
   "interpreter": {
    "hash": "dcb6828c3682862df576250dd58b581c87dd919192f151ab6dbc345bffabe4bc"
   }
  }
 },
 "nbformat": 4,
 "nbformat_minor": 2
}
